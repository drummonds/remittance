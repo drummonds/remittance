{
 "cells": [
  {
   "cell_type": "code",
   "execution_count": 8,
   "metadata": {
    "collapsed": true
   },
   "outputs": [],
   "source": [
    "import datetime as dt\n",
    "import numpy as np\n",
    "import os\n",
    "import pandas as pd\n",
    "\n",
    "from ais import p, RemittanceDoc"
   ]
  },
  {
   "cell_type": "markdown",
   "metadata": {},
   "source": [
    "# Converting AIS statements to entries (PPD version)\n",
    "This is based on the EDI spreadsheets that are produced by AIS.  Note these are not always totally reliable as to what actually is received but seem to be accurate about 95% of the time.   \n",
    "This version is designed to work with the implementation of the prompt payment that has been used at AIS.\n",
    "\n",
    "## Setup up parameters"
   ]
  },
  {
   "cell_type": "code",
   "execution_count": 9,
   "metadata": {
    "collapsed": false
   },
   "outputs": [],
   "source": [
    "fn = '16267829_609 - test.xls'"
   ]
  },
  {
   "cell_type": "markdown",
   "metadata": {},
   "source": [
    "## Guts of the program\n",
    "Defines an AISRemittanceDocument object which holds all the source data for the remittance document pretty much in the form that AIS gives it to us.  Also the parsing from the Excel representation to this object form."
   ]
  },
  {
   "cell_type": "code",
   "execution_count": 3,
   "metadata": {
    "collapsed": false
   },
   "outputs": [
    {
     "name": "stdout",
     "output_type": "stream",
     "text": [
      "Checking B22 for |42380.0|, = |---- END OF REPORT ----|\n",
      "Checking A19 for |Document Type|, = |Document Type|\n",
      "Checking B46 for |---- END OF REPORT ----|, = |---- END OF REPORT ----|\n",
      "Title = CENPAC Supplier Transaction Detail Report: Week : 2 - Year :16\n",
      "Week 2, Year 16\n",
      "Invoices 10636.29, credits -168.37, stop_notes 0.00, reversal stop notes 0.00, total 10467.92\n",
      "\n"
     ]
    }
   ],
   "source": [
    "ais_doc = RemittanceDoc(os.getcwd() + '\\\\' + fn)\n",
    "print(ais_doc)"
   ]
  },
  {
   "cell_type": "code",
   "execution_count": 4,
   "metadata": {
    "collapsed": false
   },
   "outputs": [
    {
     "data": {
      "text/html": [
       "<div>\n",
       "<table border=\"1\" class=\"dataframe\">\n",
       "  <thead>\n",
       "    <tr style=\"text-align: right;\">\n",
       "      <th></th>\n",
       "      <th>Document Type</th>\n",
       "      <th>Invoice Date</th>\n",
       "      <th>Our Ref</th>\n",
       "      <th>Your Ref</th>\n",
       "      <th>Value</th>\n",
       "      <th>Discount</th>\n",
       "      <th>Due</th>\n",
       "      <th>Member Code</th>\n",
       "      <th>Member Name</th>\n",
       "      <th>Store No.</th>\n",
       "      <th>EDI ANA Used</th>\n",
       "      <th>Comment</th>\n",
       "    </tr>\n",
       "  </thead>\n",
       "  <tbody>\n",
       "    <tr>\n",
       "      <th>1</th>\n",
       "      <td>Credit Note</td>\n",
       "      <td>2016-01-15 00:00:00</td>\n",
       "      <td>160280459</td>\n",
       "      <td>160267829</td>\n",
       "      <td>-111.37</td>\n",
       "      <td>0</td>\n",
       "      <td>-111.37</td>\n",
       "      <td>4552</td>\n",
       "      <td>AIS Ltd (Cenpac Settlement)</td>\n",
       "      <td>0070</td>\n",
       "      <td>5021157000700</td>\n",
       "      <td>NaN</td>\n",
       "    </tr>\n",
       "    <tr>\n",
       "      <th>2</th>\n",
       "      <td>Invoice</td>\n",
       "      <td>2016-01-11 00:00:00</td>\n",
       "      <td>160202243</td>\n",
       "      <td>57735</td>\n",
       "      <td>822.84</td>\n",
       "      <td>41.142</td>\n",
       "      <td>781.7</td>\n",
       "      <td>1135</td>\n",
       "      <td>Bodgers of Ilford Ltd</td>\n",
       "      <td>0322</td>\n",
       "      <td>NaN</td>\n",
       "      <td>NaN</td>\n",
       "    </tr>\n",
       "    <tr>\n",
       "      <th>3</th>\n",
       "      <td>Invoice</td>\n",
       "      <td>2016-01-12 00:00:00</td>\n",
       "      <td>160202250</td>\n",
       "      <td>57768</td>\n",
       "      <td>309.72</td>\n",
       "      <td>15.486</td>\n",
       "      <td>294.23</td>\n",
       "      <td>5960</td>\n",
       "      <td>Boswells of Oxford Ltd</td>\n",
       "      <td>1324</td>\n",
       "      <td>NaN</td>\n",
       "      <td>NaN</td>\n",
       "    </tr>\n",
       "    <tr>\n",
       "      <th>4</th>\n",
       "      <td>Invoice</td>\n",
       "      <td>2016-01-07 00:00:00</td>\n",
       "      <td>160203276</td>\n",
       "      <td>57730</td>\n",
       "      <td>325.38</td>\n",
       "      <td>16.269</td>\n",
       "      <td>309.11</td>\n",
       "      <td>4543</td>\n",
       "      <td>Camp Hopson (Newbury) Ltd</td>\n",
       "      <td>2495</td>\n",
       "      <td>NaN</td>\n",
       "      <td>NaN</td>\n",
       "    </tr>\n",
       "    <tr>\n",
       "      <th>5</th>\n",
       "      <td>Invoice</td>\n",
       "      <td>2016-01-12 00:00:00</td>\n",
       "      <td>160202249</td>\n",
       "      <td>57767</td>\n",
       "      <td>496.38</td>\n",
       "      <td>24.819</td>\n",
       "      <td>471.56</td>\n",
       "      <td>2701</td>\n",
       "      <td>Collingwood Batchellor Ltd</td>\n",
       "      <td>0586</td>\n",
       "      <td>NaN</td>\n",
       "      <td>NaN</td>\n",
       "    </tr>\n",
       "  </tbody>\n",
       "</table>\n",
       "</div>"
      ],
      "text/plain": [
       "  Document Type         Invoice Date    Our Ref   Your Ref   Value Discount  \\\n",
       "1   Credit Note  2016-01-15 00:00:00  160280459  160267829 -111.37        0   \n",
       "2       Invoice  2016-01-11 00:00:00  160202243      57735  822.84   41.142   \n",
       "3       Invoice  2016-01-12 00:00:00  160202250      57768  309.72   15.486   \n",
       "4       Invoice  2016-01-07 00:00:00  160203276      57730  325.38   16.269   \n",
       "5       Invoice  2016-01-12 00:00:00  160202249      57767  496.38   24.819   \n",
       "\n",
       "      Due Member Code                  Member Name Store No.   EDI ANA Used  \\\n",
       "1 -111.37        4552  AIS Ltd (Cenpac Settlement)      0070  5021157000700   \n",
       "2   781.7        1135        Bodgers of Ilford Ltd      0322            NaN   \n",
       "3  294.23        5960       Boswells of Oxford Ltd      1324            NaN   \n",
       "4  309.11        4543    Camp Hopson (Newbury) Ltd      2495            NaN   \n",
       "5  471.56        2701   Collingwood Batchellor Ltd      0586            NaN   \n",
       "\n",
       "  Comment  \n",
       "1     NaN  \n",
       "2     NaN  \n",
       "3     NaN  \n",
       "4     NaN  \n",
       "5     NaN  "
      ]
     },
     "execution_count": 4,
     "metadata": {},
     "output_type": "execute_result"
    }
   ],
   "source": [
    "ais_doc.df.head()"
   ]
  },
  {
   "cell_type": "code",
   "execution_count": 7,
   "metadata": {
    "collapsed": false
   },
   "outputs": [
    {
     "data": {
      "text/plain": [
       "160280459"
      ]
     },
     "execution_count": 7,
     "metadata": {},
     "output_type": "execute_result"
    }
   ],
   "source": [
    "ais_doc.df['Our Ref'][1]"
   ]
  },
  {
   "cell_type": "code",
   "execution_count": null,
   "metadata": {
    "collapsed": true
   },
   "outputs": [],
   "source": []
  }
 ],
 "metadata": {
  "kernelspec": {
   "display_name": "Python 3",
   "language": "python",
   "name": "python3"
  },
  "language_info": {
   "codemirror_mode": {
    "name": "ipython",
    "version": 3
   },
   "file_extension": ".py",
   "mimetype": "text/x-python",
   "name": "python",
   "nbconvert_exporter": "python",
   "pygments_lexer": "ipython3",
   "version": "3.5.1"
  }
 },
 "nbformat": 4,
 "nbformat_minor": 0
}
